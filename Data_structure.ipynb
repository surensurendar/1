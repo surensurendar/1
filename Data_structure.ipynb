{
  "nbformat": 4,
  "nbformat_minor": 0,
  "metadata": {
    "colab": {
      "name": "Data structure",
      "provenance": [],
      "authorship_tag": "ABX9TyOx4pADDlXzy4m8QT1sMnFX",
      "include_colab_link": true
    },
    "kernelspec": {
      "name": "python3",
      "display_name": "Python 3"
    },
    "language_info": {
      "name": "python"
    }
  },
  "cells": [
    {
      "cell_type": "markdown",
      "metadata": {
        "id": "view-in-github",
        "colab_type": "text"
      },
      "source": [
        "<a href=\"https://colab.research.google.com/github/surensurendar/1/blob/master/Data_structure.ipynb\" target=\"_parent\"><img src=\"https://colab.research.google.com/assets/colab-badge.svg\" alt=\"Open In Colab\"/></a>"
      ]
    },
    {
      "cell_type": "code",
      "execution_count": null,
      "metadata": {
        "colab": {
          "base_uri": "https://localhost:8080/"
        },
        "id": "aUlGdOPIgn0D",
        "outputId": "2b2a3d5b-1b21-43c5-a6bd-7fee9816b9d7"
      },
      "outputs": [
        {
          "output_type": "execute_result",
          "data": {
            "text/plain": [
              "['__add__',\n",
              " '__class__',\n",
              " '__contains__',\n",
              " '__delattr__',\n",
              " '__delitem__',\n",
              " '__dir__',\n",
              " '__doc__',\n",
              " '__eq__',\n",
              " '__format__',\n",
              " '__ge__',\n",
              " '__getattribute__',\n",
              " '__getitem__',\n",
              " '__gt__',\n",
              " '__hash__',\n",
              " '__iadd__',\n",
              " '__imul__',\n",
              " '__init__',\n",
              " '__init_subclass__',\n",
              " '__iter__',\n",
              " '__le__',\n",
              " '__len__',\n",
              " '__lt__',\n",
              " '__mul__',\n",
              " '__ne__',\n",
              " '__new__',\n",
              " '__reduce__',\n",
              " '__reduce_ex__',\n",
              " '__repr__',\n",
              " '__reversed__',\n",
              " '__rmul__',\n",
              " '__setattr__',\n",
              " '__setitem__',\n",
              " '__sizeof__',\n",
              " '__str__',\n",
              " '__subclasshook__',\n",
              " 'append',\n",
              " 'clear',\n",
              " 'copy',\n",
              " 'count',\n",
              " 'extend',\n",
              " 'index',\n",
              " 'insert',\n",
              " 'pop',\n",
              " 'remove',\n",
              " 'reverse',\n",
              " 'sort']"
            ]
          },
          "metadata": {},
          "execution_count": 2
        }
      ],
      "source": [
        "list_l=[1,3,4,5]\n",
        "dir(list_l)"
      ]
    },
    {
      "cell_type": "code",
      "source": [
        "set_s={\"value1\",\"value2\"}\n",
        "dir(set_s)"
      ],
      "metadata": {
        "colab": {
          "base_uri": "https://localhost:8080/"
        },
        "id": "-fFs-HcehSsi",
        "outputId": "8ca23713-047c-4c44-f7a1-bf1cbceecceb"
      },
      "execution_count": null,
      "outputs": [
        {
          "output_type": "execute_result",
          "data": {
            "text/plain": [
              "['__and__',\n",
              " '__class__',\n",
              " '__contains__',\n",
              " '__delattr__',\n",
              " '__dir__',\n",
              " '__doc__',\n",
              " '__eq__',\n",
              " '__format__',\n",
              " '__ge__',\n",
              " '__getattribute__',\n",
              " '__gt__',\n",
              " '__hash__',\n",
              " '__iand__',\n",
              " '__init__',\n",
              " '__init_subclass__',\n",
              " '__ior__',\n",
              " '__isub__',\n",
              " '__iter__',\n",
              " '__ixor__',\n",
              " '__le__',\n",
              " '__len__',\n",
              " '__lt__',\n",
              " '__ne__',\n",
              " '__new__',\n",
              " '__or__',\n",
              " '__rand__',\n",
              " '__reduce__',\n",
              " '__reduce_ex__',\n",
              " '__repr__',\n",
              " '__ror__',\n",
              " '__rsub__',\n",
              " '__rxor__',\n",
              " '__setattr__',\n",
              " '__sizeof__',\n",
              " '__str__',\n",
              " '__sub__',\n",
              " '__subclasshook__',\n",
              " '__xor__',\n",
              " 'add',\n",
              " 'clear',\n",
              " 'copy',\n",
              " 'difference',\n",
              " 'difference_update',\n",
              " 'discard',\n",
              " 'intersection',\n",
              " 'intersection_update',\n",
              " 'isdisjoint',\n",
              " 'issubset',\n",
              " 'issuperset',\n",
              " 'pop',\n",
              " 'remove',\n",
              " 'symmetric_difference',\n",
              " 'symmetric_difference_update',\n",
              " 'union',\n",
              " 'update']"
            ]
          },
          "metadata": {},
          "execution_count": 3
        }
      ]
    },
    {
      "cell_type": "code",
      "source": [
        "Turple_t=(\"value1\",\"value2\")\n",
        "dir(Turple_t)"
      ],
      "metadata": {
        "colab": {
          "base_uri": "https://localhost:8080/"
        },
        "id": "IJRkvuUgiERs",
        "outputId": "107e9057-3c94-404d-ad97-2330a48fd49e"
      },
      "execution_count": null,
      "outputs": [
        {
          "output_type": "execute_result",
          "data": {
            "text/plain": [
              "['__add__',\n",
              " '__class__',\n",
              " '__contains__',\n",
              " '__delattr__',\n",
              " '__dir__',\n",
              " '__doc__',\n",
              " '__eq__',\n",
              " '__format__',\n",
              " '__ge__',\n",
              " '__getattribute__',\n",
              " '__getitem__',\n",
              " '__getnewargs__',\n",
              " '__gt__',\n",
              " '__hash__',\n",
              " '__init__',\n",
              " '__init_subclass__',\n",
              " '__iter__',\n",
              " '__le__',\n",
              " '__len__',\n",
              " '__lt__',\n",
              " '__mul__',\n",
              " '__ne__',\n",
              " '__new__',\n",
              " '__reduce__',\n",
              " '__reduce_ex__',\n",
              " '__repr__',\n",
              " '__rmul__',\n",
              " '__setattr__',\n",
              " '__sizeof__',\n",
              " '__str__',\n",
              " '__subclasshook__',\n",
              " 'count',\n",
              " 'index']"
            ]
          },
          "metadata": {},
          "execution_count": 5
        }
      ]
    },
    {
      "cell_type": "code",
      "source": [
        "dictionary_d={'selva':'Id1','partheeban':'id2'}\n",
        "dir(dictionary_d)"
      ],
      "metadata": {
        "colab": {
          "base_uri": "https://localhost:8080/"
        },
        "id": "OOVcOwr4irSz",
        "outputId": "0ceca12f-ec3d-4461-c607-b0dab7ea578c"
      },
      "execution_count": null,
      "outputs": [
        {
          "output_type": "execute_result",
          "data": {
            "text/plain": [
              "['__class__',\n",
              " '__contains__',\n",
              " '__delattr__',\n",
              " '__delitem__',\n",
              " '__dir__',\n",
              " '__doc__',\n",
              " '__eq__',\n",
              " '__format__',\n",
              " '__ge__',\n",
              " '__getattribute__',\n",
              " '__getitem__',\n",
              " '__gt__',\n",
              " '__hash__',\n",
              " '__init__',\n",
              " '__init_subclass__',\n",
              " '__iter__',\n",
              " '__le__',\n",
              " '__len__',\n",
              " '__lt__',\n",
              " '__ne__',\n",
              " '__new__',\n",
              " '__reduce__',\n",
              " '__reduce_ex__',\n",
              " '__repr__',\n",
              " '__setattr__',\n",
              " '__setitem__',\n",
              " '__sizeof__',\n",
              " '__str__',\n",
              " '__subclasshook__',\n",
              " 'clear',\n",
              " 'copy',\n",
              " 'fromkeys',\n",
              " 'get',\n",
              " 'items',\n",
              " 'keys',\n",
              " 'pop',\n",
              " 'popitem',\n",
              " 'setdefault',\n",
              " 'update',\n",
              " 'values']"
            ]
          },
          "metadata": {},
          "execution_count": 6
        }
      ]
    },
    {
      "cell_type": "code",
      "source": [
        ""
      ],
      "metadata": {
        "id": "IvDz-GR07n7a"
      },
      "execution_count": null,
      "outputs": []
    },
    {
      "cell_type": "code",
      "source": [
        "print(\"surendar\")"
      ],
      "metadata": {
        "colab": {
          "base_uri": "https://localhost:8080/"
        },
        "id": "MRm3XKAxl6Gq",
        "outputId": "4688ce05-0f66-4577-bd72-5b664d875df9"
      },
      "execution_count": null,
      "outputs": [
        {
          "output_type": "stream",
          "name": "stdout",
          "text": [
            "surendar\n"
          ]
        }
      ]
    },
    {
      "cell_type": "code",
      "source": [
        "#list is mutable\n",
        "#list accept duplicate values"
      ],
      "metadata": {
        "id": "oaCUUCQ9u48g"
      },
      "execution_count": null,
      "outputs": []
    },
    {
      "cell_type": "code",
      "source": [
        "#list extend\n",
        "# joining to list\n",
        "\n",
        "\n",
        "name=[\"ram\",\"g\",\"false\",\"94.3\"]\n",
        "age=[\"23\",\"32\",\"53\",\"21\"]\n",
        "\n",
        "name.extend(age)\n",
        "print(\"extend function:\",name)\n"
      ],
      "metadata": {
        "colab": {
          "base_uri": "https://localhost:8080/"
        },
        "id": "it0kMf9al-0z",
        "outputId": "03e23b0e-9d55-456a-fa29-7f3d7788a844"
      },
      "execution_count": null,
      "outputs": [
        {
          "output_type": "stream",
          "name": "stdout",
          "text": [
            "extend function: ['ram', 'g', 'false', '94.3', '23', '32', '53', '21']\n"
          ]
        }
      ]
    },
    {
      "cell_type": "code",
      "source": [
        "#list append\n",
        "# added on last in list\n",
        "\n",
        "name=[\"ram\",\"g\",\"false\",\"94.3\"]\n",
        "\n",
        "name.append(\"rohith\")\n",
        "print(\"append:\",name)"
      ],
      "metadata": {
        "colab": {
          "base_uri": "https://localhost:8080/"
        },
        "id": "RWokQ0C_69zm",
        "outputId": "c2dc6379-b5c6-4445-99bc-eb86f96c567b"
      },
      "execution_count": null,
      "outputs": [
        {
          "output_type": "stream",
          "name": "stdout",
          "text": [
            "append: ['ram', 'g', 'false', '94.3', 'rohith']\n"
          ]
        }
      ]
    },
    {
      "cell_type": "code",
      "source": [
        "#list insert\n",
        "#insert selected place\n",
        "name=[\"ram\",\"g\",\"false\",\"94.3\"]\n",
        "age=[\"23\",\"32\",\"53\",\"21\"]\n",
        "name.insert(2,\"giri\")\n",
        "print(\"insert:\",name)\n",
        "\n"
      ],
      "metadata": {
        "colab": {
          "base_uri": "https://localhost:8080/"
        },
        "id": "cRQcdkvR8M7Q",
        "outputId": "3ce15397-e267-4ead-bd4c-d0161d63835a"
      },
      "execution_count": null,
      "outputs": [
        {
          "output_type": "stream",
          "name": "stdout",
          "text": [
            "insert: ['ram', 'g', 'giri', 'false', '94.3']\n"
          ]
        }
      ]
    },
    {
      "cell_type": "code",
      "source": [
        "#list remove\n",
        "#remove seleted place\n",
        "name=[\"ram\",\"g\",\"false\",\"94.3\"]\n",
        "name.remove(\"g\")\n",
        "print(\"remove:\",name)\n"
      ],
      "metadata": {
        "colab": {
          "base_uri": "https://localhost:8080/"
        },
        "id": "dp9vjT1t-3W8",
        "outputId": "20efb949-2495-4e8b-a9cd-c752bf28d4b4"
      },
      "execution_count": null,
      "outputs": [
        {
          "output_type": "stream",
          "name": "stdout",
          "text": [
            "remove: ['ram', 'false', '94.3']\n"
          ]
        }
      ]
    },
    {
      "cell_type": "code",
      "source": [
        "#list clear\n",
        "#clear full list\n",
        "name=[\"ram\",\"g\",\"false\",\"94.3\"]\n",
        "name.clear()\n",
        "print(\"clear :\",name)\n"
      ],
      "metadata": {
        "colab": {
          "base_uri": "https://localhost:8080/"
        },
        "id": "so2klMIFUA_1",
        "outputId": "b6720935-fba1-460d-f070-d27c1fd4c3b2"
      },
      "execution_count": null,
      "outputs": [
        {
          "output_type": "stream",
          "name": "stdout",
          "text": [
            "clear : []\n"
          ]
        }
      ]
    },
    {
      "cell_type": "code",
      "source": [
        "#list pop\n",
        "#pop remove last place\n",
        "name=[\"ram\",\"g\",\"false\",\"94.3\"]\n",
        "name.pop()\n",
        "print(\"pop:\",name)\n"
      ],
      "metadata": {
        "colab": {
          "base_uri": "https://localhost:8080/"
        },
        "id": "PU-s8ik1VF7d",
        "outputId": "8fc52a0d-1cd4-48ec-9c0c-74e375ea189b"
      },
      "execution_count": null,
      "outputs": [
        {
          "output_type": "stream",
          "name": "stdout",
          "text": [
            "pop: ['ram', 'g', 'false']\n"
          ]
        }
      ]
    },
    {
      "cell_type": "code",
      "source": [
        "#list index\n",
        "#get index of the list\n",
        "name=[\"ram\",\"g\",\"false\",\"94.3\"]\n",
        "print(\"index value :\",name.index(\"false\"))"
      ],
      "metadata": {
        "colab": {
          "base_uri": "https://localhost:8080/"
        },
        "id": "B737OSKJWruX",
        "outputId": "a4fad0b9-ccc5-48e2-8b4f-32fbfe40a220"
      },
      "execution_count": null,
      "outputs": [
        {
          "output_type": "stream",
          "name": "stdout",
          "text": [
            "index value : 2\n"
          ]
        }
      ]
    },
    {
      "cell_type": "code",
      "source": [
        "#list count\n",
        "#many time comes one word count how many ?\n",
        "name=[\"ram\",\"g\",\"false\",\"94.3\",\"g\"]\n",
        "print(\"count :\",name.count(\"g\"))"
      ],
      "metadata": {
        "colab": {
          "base_uri": "https://localhost:8080/"
        },
        "id": "rzhXg-yoXinO",
        "outputId": "6f62cff9-9a61-42fe-e410-1d6bdc1bf83d"
      },
      "execution_count": null,
      "outputs": [
        {
          "output_type": "stream",
          "name": "stdout",
          "text": [
            "count : 2\n"
          ]
        }
      ]
    },
    {
      "cell_type": "code",
      "source": [
        "#list sort\n",
        "#sort is arrange asending order\n",
        "name=[\"ram\",\"g\",\"false\",\"94.3\"]\n",
        "name.sort()\n",
        "print(\"sort:\",name)"
      ],
      "metadata": {
        "colab": {
          "base_uri": "https://localhost:8080/"
        },
        "id": "mC-Xl5T0YnIE",
        "outputId": "6efef841-fde4-4a95-df69-b5724b6d9a6e"
      },
      "execution_count": null,
      "outputs": [
        {
          "output_type": "stream",
          "name": "stdout",
          "text": [
            "sort: ['94.3', 'false', 'g', 'ram']\n"
          ]
        }
      ]
    },
    {
      "cell_type": "code",
      "source": [
        "#list reverse\n",
        "#reverse the list is reverse\n",
        "name=[\"ram\",\"g\",\"false\",\"94.3\"]\n",
        "name.reverse()\n",
        "print(\"reverse:\",name)"
      ],
      "metadata": {
        "colab": {
          "base_uri": "https://localhost:8080/"
        },
        "id": "SiIXfmpVZV8W",
        "outputId": "a5cd5c51-e65a-466a-b278-3b3b89cec206"
      },
      "execution_count": null,
      "outputs": [
        {
          "output_type": "stream",
          "name": "stdout",
          "text": [
            "reverse: ['94.3', 'false', 'g', 'ram']\n"
          ]
        }
      ]
    },
    {
      "cell_type": "code",
      "source": [
        "#list copy\n",
        "#copy in the another variable\n",
        "name=[\"ram\",\"g\",\"false\",\"94.3\"]\n",
        "name1=name.copy()\n",
        "print(\"copy:\",name1)\n"
      ],
      "metadata": {
        "colab": {
          "base_uri": "https://localhost:8080/"
        },
        "id": "kwAw7Xx4bFrS",
        "outputId": "b42dd2d7-12b8-4495-af59-0af08028b695"
      },
      "execution_count": null,
      "outputs": [
        {
          "output_type": "stream",
          "name": "stdout",
          "text": [
            "copy: ['ram', 'g', 'false', '94.3']\n"
          ]
        },
        {
          "output_type": "execute_result",
          "data": {
            "text/plain": [
              "list"
            ]
          },
          "metadata": {},
          "execution_count": 45
        }
      ]
    },
    {
      "cell_type": "code",
      "source": [
        "#tuple is the immutable function\n",
        "#tuple not accept duplicate value\n",
        "tup=tuple('surendar')\n",
        "print(tup)\n",
        "type(tup)\n",
        "print(len(tup))\n",
        "print(min(tup))\n",
        "print(max(tup))"
      ],
      "metadata": {
        "colab": {
          "base_uri": "https://localhost:8080/"
        },
        "id": "jyM28o-Ufh-E",
        "outputId": "1e82f8dc-8ade-4bca-ccf6-f8ea364d95bb"
      },
      "execution_count": null,
      "outputs": [
        {
          "output_type": "stream",
          "name": "stdout",
          "text": [
            "('s', 'u', 'r', 'e', 'n', 'd', 'a', 'r')\n",
            "8\n",
            "a\n",
            "u\n"
          ]
        }
      ]
    },
    {
      "cell_type": "code",
      "source": [
        "                                                   #set\n",
        "number=set({1,2,\"kjkshf\",3,4})\n",
        "print(number)\n",
        "#discard not value assign value ignore the step\n",
        "number.discard(2)\n",
        "print(\"discard\",number)\n",
        "number.add(6)\n",
        "print(\"add\",number)\n",
        "number.clear()\n",
        "print(number)\n",
        "\n",
        "\n"
      ],
      "metadata": {
        "colab": {
          "base_uri": "https://localhost:8080/"
        },
        "id": "hTDabT0dh19z",
        "outputId": "7945b113-0383-4ec8-94a8-6fc9263040bc"
      },
      "execution_count": null,
      "outputs": [
        {
          "output_type": "stream",
          "name": "stdout",
          "text": [
            "{1, 2, 3, 4, 'kjkshf'}\n",
            "discard {1, 3, 4, 'kjkshf'}\n",
            "add {1, 3, 4, 6, 'kjkshf'}\n",
            "set()\n"
          ]
        }
      ]
    },
    {
      "cell_type": "code",
      "source": [
        "number=set({2,4,4,65})\n",
        "number.pop()\n",
        "#random number display\n",
        "print(number)\n",
        "print(number)"
      ],
      "metadata": {
        "id": "I9MzgLiS86rQ",
        "colab": {
          "base_uri": "https://localhost:8080/"
        },
        "outputId": "5ee70d98-f2df-433f-9c85-5f66ba4b5dcc"
      },
      "execution_count": null,
      "outputs": [
        {
          "output_type": "stream",
          "name": "stdout",
          "text": [
            "{2, 4}\n",
            "{2, 4}\n"
          ]
        }
      ]
    },
    {
      "cell_type": "code",
      "source": [
        "#for loop statement\n",
        "words=set({\"surendar\",\"ram\",\"siv\"})\n",
        "print(type(words))\n",
        "for e in words:\n",
        "  print(e)"
      ],
      "metadata": {
        "colab": {
          "base_uri": "https://localhost:8080/"
        },
        "id": "d0FBKSLFE9yk",
        "outputId": "fa6b06b3-a683-42f2-b19e-180ec3a88b8d"
      },
      "execution_count": null,
      "outputs": [
        {
          "output_type": "stream",
          "name": "stdout",
          "text": [
            "<class 'set'>\n",
            "ram\n",
            "siv\n",
            "surendar\n"
          ]
        }
      ]
    },
    {
      "cell_type": "code",
      "source": [
        "number=set({2,4,6,7,8,6,})\n",
        "#using condition if statement\n",
        "\n",
        "if 6 in number:\n",
        "    print(\"5 is present\");\n",
        "else:\n",
        "    print(\"not present\");"
      ],
      "metadata": {
        "colab": {
          "base_uri": "https://localhost:8080/"
        },
        "id": "j4no8suAF7cK",
        "outputId": "9174ce4d-498f-4f31-b323-49ab54e734b2"
      },
      "execution_count": null,
      "outputs": [
        {
          "output_type": "stream",
          "name": "stdout",
          "text": [
            "5 is present\n"
          ]
        }
      ]
    },
    {
      "cell_type": "code",
      "source": [
        "#set using union intersection\n",
        "odd={1,3,5,7,9}\n",
        "even={2,4,6,8,10}\n",
        "prime={2,3,5,7,9}\n",
        "print(\"union :\")\n",
        "print(odd.union(even))\n",
        "print(\"intersection :\")\n",
        "print(even.intersection(prime))\n"
      ],
      "metadata": {
        "colab": {
          "base_uri": "https://localhost:8080/"
        },
        "id": "GJ686pZeHbn1",
        "outputId": "3ae958bf-522c-40bc-f9a6-93b2f7699db0"
      },
      "execution_count": 1,
      "outputs": [
        {
          "output_type": "stream",
          "name": "stdout",
          "text": [
            "union :\n",
            "{1, 2, 3, 4, 5, 6, 7, 8, 9, 10}\n",
            "intersection :\n",
            "{2}\n"
          ]
        }
      ]
    },
    {
      "cell_type": "code",
      "source": [
        "#dictionary key:value \n",
        "three_number={\"jan\":\"january\",\"feb\":\"febuary\",\"mar\":\"march\"}\n",
        "print(three_number[\"jan\"])\n",
        "print(three_number.get(\"mar\"))"
      ],
      "metadata": {
        "colab": {
          "base_uri": "https://localhost:8080/"
        },
        "id": "NoLtkMREtaBR",
        "outputId": "730011a4-c9d8-4984-cc4b-37f13ffbe07c"
      },
      "execution_count": 5,
      "outputs": [
        {
          "output_type": "stream",
          "name": "stdout",
          "text": [
            "{'jan': 'january', 'feb': 'febuary', 'mar': 'march'}\n",
            "january\n",
            "march\n"
          ]
        }
      ]
    },
    {
      "cell_type": "code",
      "source": [
        ""
      ],
      "metadata": {
        "id": "cmZVXJfYvbTr"
      },
      "execution_count": 8,
      "outputs": []
    }
  ]
}